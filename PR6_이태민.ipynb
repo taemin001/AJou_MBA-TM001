{
 "cells": [
  {
   "cell_type": "markdown",
   "id": "8897ae75-8bec-48c6-8548-9faba87c1026",
   "metadata": {},
   "source": [
    "## PR6 자료구조"
   ]
  },
  {
   "cell_type": "markdown",
   "id": "df21bc8d-05a5-4efa-9926-79765b1fd03b",
   "metadata": {},
   "source": [
    "### Stack : Push and pop"
   ]
  },
  {
   "cell_type": "code",
   "execution_count": 3,
   "id": "7b44e2c0-4165-4d30-92ed-09c2e829f842",
   "metadata": {},
   "outputs": [
    {
     "name": "stdout",
     "output_type": "stream",
     "text": [
      "[1, 2, 3, 4, 5, 10, 20]\n",
      "[1, 2, 3, 4, 5, 10]\n",
      "[1, 2, 3, 4, 5]\n",
      "[1, 2, 3, 4]\n",
      "[2, 3, 4]\n",
      "[3, 4]\n"
     ]
    }
   ],
   "source": [
    "a=[1,2,3,4,5]\n",
    "a.append(10)\n",
    "a.append(20)\n",
    "print(a)\n",
    "a.pop()\n",
    "# .pop 으로 마지막에 추가된 문자열을 제거해줄 수 있음.\n",
    "print(a)\n",
    "a.pop()\n",
    "print(a)\n",
    "a.pop()\n",
    "print(a)\n",
    "a.pop(0)\n",
    "print(a)\n",
    "a.pop(0)\n",
    "print(a)"
   ]
  },
  {
   "cell_type": "code",
   "execution_count": 4,
   "id": "ca8181be-7833-4fbb-8b50-7bdc4f6c70c8",
   "metadata": {},
   "outputs": [],
   "source": [
    "# 튜플의 괄호는 ( ) 임. 리스트는 [ ]\n",
    "# 튜플은 값을 변경할 수 없음."
   ]
  },
  {
   "cell_type": "code",
   "execution_count": 5,
   "id": "1846ddf3-a791-488b-9198-57429351fd89",
   "metadata": {},
   "outputs": [
    {
     "name": "stdout",
     "output_type": "stream",
     "text": [
      "1 1\n"
     ]
    }
   ],
   "source": [
    "t=(1,2,3)\n",
    "a=[1,2,3]\n",
    "\n",
    "print(t[0],a[0])"
   ]
  },
  {
   "cell_type": "code",
   "execution_count": 6,
   "id": "0490f90f-d337-498b-9f30-b990bd55ac12",
   "metadata": {},
   "outputs": [
    {
     "name": "stdout",
     "output_type": "stream",
     "text": [
      "1 10\n"
     ]
    }
   ],
   "source": [
    "a[0]=10\n",
    "print(t[0],a[0])"
   ]
  },
  {
   "cell_type": "code",
   "execution_count": 8,
   "id": "fa5d0612-82ec-42bb-ab5c-aa90dc2059c7",
   "metadata": {},
   "outputs": [
    {
     "ename": "TypeError",
     "evalue": "'tuple' object does not support item assignment",
     "output_type": "error",
     "traceback": [
      "\u001b[0;31m---------------------------------------------------------------------------\u001b[0m",
      "\u001b[0;31mTypeError\u001b[0m                                 Traceback (most recent call last)",
      "Cell \u001b[0;32mIn[8], line 2\u001b[0m\n\u001b[1;32m      1\u001b[0m \u001b[38;5;66;03m#튜플(이라는 집합의 데이터를)수정하려한다면..\u001b[39;00m\n\u001b[0;32m----> 2\u001b[0m \u001b[43mt\u001b[49m\u001b[43m[\u001b[49m\u001b[38;5;241;43m0\u001b[39;49m\u001b[43m]\u001b[49m\u001b[38;5;241m=\u001b[39m\u001b[38;5;241m10\u001b[39m\n",
      "\u001b[0;31mTypeError\u001b[0m: 'tuple' object does not support item assignment"
     ]
    }
   ],
   "source": [
    "#튜플(이라는 집합의 데이터를)수정하려한다면..\n",
    "t[0]=10"
   ]
  },
  {
   "cell_type": "code",
   "execution_count": 9,
   "id": "a67a4a3c-81b2-4e53-90d7-0f73f397e632",
   "metadata": {},
   "outputs": [],
   "source": [
    "# 세트는 순서에 관계없이 저장하지만 중복은 불가능한 자료형태. 삭제나 변경이 가능하며 다양한 집합 연산 제공.\n",
    "# 중복값을 제거해주는 기능이 있음."
   ]
  },
  {
   "cell_type": "code",
   "execution_count": 12,
   "id": "4c501f20-8f1f-45a2-be9a-798a53f648a7",
   "metadata": {},
   "outputs": [
    {
     "name": "stdout",
     "output_type": "stream",
     "text": [
      "{1, 2, 3, 5}\n"
     ]
    }
   ],
   "source": [
    "s = set([1,2,3,1,2,1,2,5])\n",
    "print(s)"
   ]
  },
  {
   "cell_type": "code",
   "execution_count": 13,
   "id": "2e75115c-f25f-40a2-9664-07656107cb5a",
   "metadata": {},
   "outputs": [
    {
     "name": "stdout",
     "output_type": "stream",
     "text": [
      "{1, 2, 3, 5}\n",
      "{1, 2, 3, 4, 5}\n",
      "{1, 2, 3, 4, 5, 7, 8}\n",
      "{1, 3, 4, 5, 7, 8}\n",
      "{1, 4, 5, 7, 8}\n",
      "set()\n"
     ]
    }
   ],
   "source": [
    "s.add(2)\n",
    "print(s)\n",
    "s.add(4)\n",
    "print(s)\n",
    "s.update([1,3,7,8])\n",
    "print(s)\n",
    "s.remove(2)\n",
    "print(s)\n",
    "s.discard(3)\n",
    "print(s)\n",
    "s.clear()\n",
    "print(s)"
   ]
  },
  {
   "cell_type": "code",
   "execution_count": 4,
   "id": "3efa2338-142b-44b3-bc2d-8b846655d584",
   "metadata": {},
   "outputs": [
    {
     "name": "stdout",
     "output_type": "stream",
     "text": [
      "{3, 4, 5}\n",
      "{3, 4, 5}\n",
      "{1, 2, 3, 4, 5, 6, 7}\n",
      "{1, 2, 3, 4, 5, 6, 7}\n",
      "{1, 2}\n",
      "{1, 2}\n"
     ]
    }
   ],
   "source": [
    "s1=set([1,2,3,4,5])\n",
    "s2=set([3,4,5,6,7])\n",
    "#교집합 (공통된것)\n",
    "print(s1&s2)\n",
    "print(s1.intersection(s2))\n",
    "print(s1|s2)\n",
    "print(s1.union(s2))\n",
    "print(s1-s2)\n",
    "print(s1.difference(s2))"
   ]
  },
  {
   "cell_type": "code",
   "execution_count": 5,
   "id": "a40f51b5-c453-42fe-8c9c-da28f9c08960",
   "metadata": {},
   "outputs": [],
   "source": [
    "#딕셔너리 (사전) : 어떠한 한 키워드에 값을 물려놓아서 불러내는 것\n",
    "#딕셔너리 변수 = { 키1 : 값1, 키2:값2, ....} => { key1:values1 으로 대응}\n",
    "#딕셔너리의 선언 은 {} 괄호를 사용한다.\n",
    "# key+values를 같이 추출할경우는 itmes를 사용"
   ]
  },
  {
   "cell_type": "code",
   "execution_count": 10,
   "id": "8beb9d72-3672-48fa-b9b0-228a1e31cc60",
   "metadata": {},
   "outputs": [
    {
     "name": "stdout",
     "output_type": "stream",
     "text": [
      "{'America': 1, 'Korea': 82, 'China': 86, 'Japan': 81, 'Germany': 49}\n",
      "dict_keys(['America', 'Korea', 'China', 'Japan', 'Germany'])\n",
      "dict_values([1, 82, 86, 81, 49])\n",
      "dict_items([('America', 1), ('Korea', 82), ('China', 86), ('Japan', 81), ('Germany', 49)])\n"
     ]
    }
   ],
   "source": [
    "country_code={\"America\":1,\"Korea\":82,\"China\":86,\"Japan\":81,\"Germany\":49}\n",
    "print(country_code)\n",
    "print(country_code.keys())\n",
    "print(country_code.values())\n",
    "print(country_code.items())"
   ]
  },
  {
   "cell_type": "code",
   "execution_count": 13,
   "id": "bfcaa6eb-724b-4f32-89ed-527cabce08b1",
   "metadata": {},
   "outputs": [
    {
     "name": "stdout",
     "output_type": "stream",
     "text": [
      "America 1\n",
      "Korea 82\n",
      "China 86\n",
      "Japan 81\n",
      "Germany 49\n"
     ]
    }
   ],
   "source": [
    "for k,v in country_code.items():\n",
    "    print(k,v)"
   ]
  },
  {
   "cell_type": "code",
   "execution_count": 14,
   "id": "c42a742e-43f6-4aee-9120-ba6967d84985",
   "metadata": {},
   "outputs": [
    {
     "name": "stdout",
     "output_type": "stream",
     "text": [
      "1\n"
     ]
    }
   ],
   "source": [
    "print(country_code[\"America\"])"
   ]
  },
  {
   "cell_type": "code",
   "execution_count": 18,
   "id": "bd27ad1b-6a66-437b-9f03-e24e80681f50",
   "metadata": {},
   "outputs": [
    {
     "name": "stdout",
     "output_type": "stream",
     "text": [
      "82\n"
     ]
    }
   ],
   "source": [
    "print(country_code.get(\"Korea\"))"
   ]
  },
  {
   "cell_type": "code",
   "execution_count": 19,
   "id": "ab3453a8-69fb-47f3-8367-7691651abc26",
   "metadata": {},
   "outputs": [
    {
     "name": "stdin",
     "output_type": "stream",
     "text": [
      "당신의 MBTI 유형을 입력하세요 (예: INFP):  entp\n"
     ]
    },
    {
     "name": "stdout",
     "output_type": "stream",
     "text": [
      "\n",
      "[ENTP] 유형에게 어울리는 직업은 다음과 같습니다:\n",
      "👉 스타트업 창업가, 마케터, 발명가\n"
     ]
    }
   ],
   "source": [
    "mbti_jobs = {\n",
    "    \"INTJ\": \"전략 컨설턴트, 데이터 과학자, 시스템 설계자\",\n",
    "    \"INTP\": \"연구원, 프로그래머, 이론 물리학자\",\n",
    "    \"ENTJ\": \"경영자, 프로젝트 매니저, 투자 분석가\",\n",
    "    \"ENTP\": \"스타트업 창업가, 마케터, 발명가\",\n",
    "    \"INFJ\": \"심리상담사, 작가, 사회운동가\",\n",
    "    \"INFP\": \"예술가, 작사가, 인권 활동가\",\n",
    "    \"ENFJ\": \"교사, HR 매니저, 커뮤니케이션 디렉터\",\n",
    "    \"ENFP\": \"기획자, 광고 크리에이터, 여행 작가\",\n",
    "    \"ISTJ\": \"회계사, 관리자, 공무원\",\n",
    "    \"ISFJ\": \"간호사, 사회복지사, 사서\",\n",
    "    \"ESTJ\": \"군인, 기업 관리자, 품질 관리자\",\n",
    "    \"ESFJ\": \"교사, 이벤트 플래너, 고객 서비스 매니저\",\n",
    "    \"ISTP\": \"기계 엔지니어, 파일럿, 정비사\",\n",
    "    \"ISFP\": \"패션 디자이너, 사진작가, 플로리스트\",\n",
    "    \"ESTP\": \"영업 전문가, 응급 구조사, 스포츠 코치\",\n",
    "    \"ESFP\": \"연예인, 여행 가이드, 쇼호스트\"\n",
    "}\n",
    "\n",
    "mbti = input(\"당신의 MBTI 유형을 입력하세요 (예: INFP): \").upper()\n",
    "                                          #.upper():소문자를 대문자로 인식\n",
    "job = mbti_jobs.get(mbti)\n",
    "\n",
    "if job:\n",
    "    print(f\"\\n[{mbti}] 유형에게 어울리는 직업은 다음과 같습니다:\\n👉 {job}\")\n",
    "else:\n",
    "    print(\"죄송해요. 해당 MBTI 유형은 데이터에 없어요. 🥲\")"
   ]
  },
  {
   "cell_type": "code",
   "execution_count": 29,
   "id": "a195aa50-a66c-453c-bbe5-1e87e93351c4",
   "metadata": {},
   "outputs": [
    {
     "name": "stdout",
     "output_type": "stream",
     "text": [
      "redbluegreenyellow\n",
      "red,blue,green,yellow\n",
      "red blue green yellow\n"
     ]
    }
   ],
   "source": [
    "colors=['red','blue','green','yellow']\n",
    "result=''.join(colors)\n",
    "result\n",
    "print(result)\n",
    "result2=','.join(colors)\n",
    "print(result2)\n",
    "result3=' '.join(colors)\n",
    "print(result3)"
   ]
  },
  {
   "cell_type": "code",
   "execution_count": 33,
   "id": "d45dc7c2-4d11-4a12-9667-b8686f83539d",
   "metadata": {},
   "outputs": [
    {
     "name": "stdout",
     "output_type": "stream",
     "text": [
      "['Trump', 'administration', 'concedes', 'Maryland', 'father', 'from', 'El', 'Salvador', 'was', 'mistakenly', 'deported', 'and', 'sent', 'to', 'mega', 'prison']\n"
     ]
    }
   ],
   "source": [
    "items='Trump administration concedes Maryland father from El Salvador was mistakenly deported and sent to mega prison'.split()\n",
    "print(items)"
   ]
  },
  {
   "cell_type": "code",
   "execution_count": 35,
   "id": "94f70c66-dd7e-445f-a0ea-edc05acbf234",
   "metadata": {},
   "outputs": [
    {
     "name": "stdout",
     "output_type": "stream",
     "text": [
      "['a', 'b', 'c', 'd']\n",
      "['www', 'naver', 'com']\n",
      "naver\n",
      "com\n"
     ]
    }
   ],
   "source": [
    "ex1=\"a,b,c,d\"\n",
    "r1=ex1.split(\",\")\n",
    "print(r1)\n",
    "ex2=\"www.naver.com\"\n",
    "r2=ex2.split(\".\")\n",
    "print(r2)\n",
    "subdomain,domain,tld=r2\n",
    "print(domain)\n",
    "print(tld)"
   ]
  },
  {
   "cell_type": "code",
   "execution_count": 41,
   "id": "a54eaa99-d8b1-4bf5-8849-0b802f7c375c",
   "metadata": {},
   "outputs": [
    {
     "name": "stdout",
     "output_type": "stream",
     "text": [
      "[8000, 4000, 6000, 10000, 12000]\n"
     ]
    }
   ],
   "source": [
    "wages=[4000,2000,3000,5000,6000]\n",
    "r_wages=[i*2 for i in wages]\n",
    "print(r_wages)"
   ]
  },
  {
   "cell_type": "code",
   "execution_count": 43,
   "id": "63d1def4-7925-4c20-8725-a8cc786beebe",
   "metadata": {},
   "outputs": [
    {
     "name": "stdout",
     "output_type": "stream",
     "text": [
      "[20, 40, 60, 100, 120]\n"
     ]
    }
   ],
   "source": [
    "wages=[10,20,30,50,60]\n",
    "r_wages=[]\n",
    "for i in wages:\n",
    "    r_wages.append(i*2)\n",
    "print(r_wages)"
   ]
  },
  {
   "cell_type": "code",
   "execution_count": 44,
   "id": "5ad5b57a-82c7-484c-affb-a14d3909aee5",
   "metadata": {},
   "outputs": [
    {
     "name": "stdout",
     "output_type": "stream",
     "text": [
      "[20]\n",
      "[20, 40]\n",
      "[20, 40, 60]\n",
      "[20, 40, 60, 100]\n",
      "[20, 40, 60, 100, 120]\n"
     ]
    }
   ],
   "source": [
    "wages=[10,20,30,50,60]\n",
    "r_wages=[]\n",
    "for i in wages:\n",
    "    r_wages.append(i*2)\n",
    "    print(r_wages)"
   ]
  },
  {
   "cell_type": "code",
   "execution_count": 1,
   "id": "9ba87f60-2b7c-4623-8552-649bdb8b4cf0",
   "metadata": {},
   "outputs": [
    {
     "name": "stdout",
     "output_type": "stream",
     "text": [
      "git version 2.34.1\n"
     ]
    }
   ],
   "source": [
    "!git --version"
   ]
  },
  {
   "cell_type": "code",
   "execution_count": 2,
   "id": "ba99e8f7-e41a-4da2-978a-2af9a44e798e",
   "metadata": {},
   "outputs": [
    {
     "name": "stdout",
     "output_type": "stream",
     "text": [
      "\u001b[33mhint: Using 'master' as the name for the initial branch. This default branch name\u001b[m\n",
      "\u001b[33mhint: is subject to change. To configure the initial branch name to use in all\u001b[m\n",
      "\u001b[33mhint: of your new repositories, which will suppress this warning, call:\u001b[m\n",
      "\u001b[33mhint: \u001b[m\n",
      "\u001b[33mhint: \tgit config --global init.defaultBranch <name>\u001b[m\n",
      "\u001b[33mhint: \u001b[m\n",
      "\u001b[33mhint: Names commonly chosen instead of 'master' are 'main', 'trunk' and\u001b[m\n",
      "\u001b[33mhint: 'development'. The just-created branch can be renamed via this command:\u001b[m\n",
      "\u001b[33mhint: \u001b[m\n",
      "\u001b[33mhint: \tgit branch -m <name>\u001b[m\n",
      "Initialized empty Git repository in /home/ltm7978/.git/\n"
     ]
    }
   ],
   "source": [
    "!git init"
   ]
  },
  {
   "cell_type": "code",
   "execution_count": 6,
   "id": "d43ba118-7ffe-4fe1-9eef-7ed48aef419d",
   "metadata": {},
   "outputs": [],
   "source": [
    "!git config --global user.name\"taemin001\""
   ]
  },
  {
   "cell_type": "code",
   "execution_count": 7,
   "id": "d7f04a44-c459-4e0d-ab4a-890b09acd571",
   "metadata": {},
   "outputs": [],
   "source": [
    "!git config --global user.email\"ltm7978@ajou.ac.kr\""
   ]
  },
  {
   "cell_type": "code",
   "execution_count": 8,
   "id": "e5e51f90-0ec5-400f-92f4-b2861b781623",
   "metadata": {},
   "outputs": [
    {
     "name": "stdout",
     "output_type": "stream",
     "text": [
      "On branch master\n",
      "\n",
      "No commits yet\n",
      "\n",
      "Untracked files:\n",
      "  (use \"git add <file>...\" to include in what will be committed)\n",
      "\t\u001b[31m.cache/\u001b[m\n",
      "\t\u001b[31m.conda/\u001b[m\n",
      "\t\u001b[31m.gitconfig\u001b[m\n",
      "\t\u001b[31m.ipynb_checkpoints/\u001b[m\n",
      "\t\u001b[31m.ipython/\u001b[m\n",
      "\t\u001b[31m.jupyter/\u001b[m\n",
      "\t\u001b[31m.local/\u001b[m\n",
      "\t\u001b[31m.npm/\u001b[m\n",
      "\t\u001b[31m.ssh/\u001b[m\n",
      "\t\u001b[31m\"PR1_\\354\\235\\264\\355\\203\\234\\353\\257\\274.ipynb\"\u001b[m\n",
      "\t\u001b[31m\"PR2_\\354\\235\\264\\355\\203\\234\\353\\257\\274.ipynb\"\u001b[m\n",
      "\t\u001b[31m\"PR3_\\354\\235\\264\\355\\203\\234\\353\\257\\274.ipynb\"\u001b[m\n",
      "\t\u001b[31m\"PR4_\\354\\235\\264\\355\\203\\234\\353\\257\\274.ipynb\"\u001b[m\n",
      "\t\u001b[31m\"PR5_\\354\\235\\264\\355\\203\\234\\353\\257\\274.ipynb\"\u001b[m\n",
      "\t\u001b[31m\"PR6_\\354\\235\\264\\355\\203\\234\\353\\257\\274.ipynb\"\u001b[m\n",
      "\t\u001b[31mchap1-3.ipynb\u001b[m\n",
      "\t\u001b[31minhouse test/\u001b[m\n",
      "\n",
      "nothing added to commit but untracked files present (use \"git add\" to track)\n"
     ]
    }
   ],
   "source": [
    "!git status"
   ]
  },
  {
   "cell_type": "code",
   "execution_count": 10,
   "id": "9dc9df7f-ee94-4ba2-b141-47425d5c413c",
   "metadata": {},
   "outputs": [],
   "source": [
    "!git remote add origin \"https://github.com/taemin001/AJou_MBA-TM001.git\""
   ]
  },
  {
   "cell_type": "code",
   "execution_count": 12,
   "id": "887253c4-2e23-4872-a3e1-079d17312846",
   "metadata": {},
   "outputs": [
    {
     "name": "stdout",
     "output_type": "stream",
     "text": [
      "error: refname refs/heads/master not found\n",
      "fatal: Branch rename failed\n"
     ]
    }
   ],
   "source": [
    "!git branch -m master main"
   ]
  },
  {
   "cell_type": "code",
   "execution_count": 13,
   "id": "e4b784f4-bb94-49c8-b844-68adb0501f0a",
   "metadata": {},
   "outputs": [
    {
     "name": "stdout",
     "output_type": "stream",
     "text": [
      "remote: Enumerating objects: 6, done.\u001b[K\n",
      "remote: Counting objects: 100% (6/6), done.\u001b[K\n",
      "remote: Compressing objects: 100% (2/2), done.\u001b[K\n",
      "remote: Total 6 (delta 0), reused 0 (delta 0), pack-reused 0 (from 0)\u001b[K\n",
      "Unpacking objects: 100% (6/6), 1.72 KiB | 135.00 KiB/s, done.\n",
      "From https://github.com/taemin001/AJou_MBA-TM001\n",
      " * branch            main       -> FETCH_HEAD\n",
      " * [new branch]      main       -> origin/main\n"
     ]
    }
   ],
   "source": [
    "!git pull origin main"
   ]
  },
  {
   "cell_type": "code",
   "execution_count": null,
   "id": "a7e4cb1d-49bf-4025-80c7-7e8b8d7b98a5",
   "metadata": {},
   "outputs": [],
   "source": [
    "!git add pr6_이태민.ipynb"
   ]
  },
  {
   "cell_type": "code",
   "execution_count": null,
   "id": "ab2b55be-68e1-4664-b05b-7842c3dfe5f4",
   "metadata": {},
   "outputs": [],
   "source": []
  }
 ],
 "metadata": {
  "kernelspec": {
   "display_name": "Python 3 (ipykernel)",
   "language": "python",
   "name": "python3"
  },
  "language_info": {
   "codemirror_mode": {
    "name": "ipython",
    "version": 3
   },
   "file_extension": ".py",
   "mimetype": "text/x-python",
   "name": "python",
   "nbconvert_exporter": "python",
   "pygments_lexer": "ipython3",
   "version": "3.11.6"
  }
 },
 "nbformat": 4,
 "nbformat_minor": 5
}
